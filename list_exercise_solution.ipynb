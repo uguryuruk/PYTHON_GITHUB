{
 "cells": [
  {
   "cell_type": "markdown",
   "metadata": {},
   "source": [
    "# LIST EXERCISE"
   ]
  },
  {
   "cell_type": "markdown",
   "metadata": {},
   "source": [
    "Aşağıdaki senaryoyu sadece list ve değişken kullanarak yapınız.\n",
    "\n",
    "Bir market kasası önünde kuyruk bulunmaktadır. Bu kuyrukta çeşitli değişiklikler olduğunda liste işlemleri ile yapınız.\n",
    "\n",
    "Her sorunun sonunda listeyi yazdırınız."
   ]
  },
  {
   "cell_type": "code",
   "execution_count": null,
   "metadata": {},
   "outputs": [],
   "source": [
    "market_queue = [\"Amanda\", \"Bora\", \"Davut\", \"Esra\", \"Gabrielle\"]"
   ]
  },
  {
   "cell_type": "markdown",
   "metadata": {},
   "source": [
    "Sıranın sonuna \"Ahmet\" katılmıştır."
   ]
  },
  {
   "cell_type": "code",
   "execution_count": null,
   "metadata": {},
   "outputs": [],
   "source": [
    "market_queue.append(\"Ahmet\")\n",
    "print(market_queue)"
   ]
  },
  {
   "cell_type": "markdown",
   "metadata": {},
   "source": [
    "İlk kişi işlemini tamamlayarak sıradan ayrılmıştır."
   ]
  },
  {
   "cell_type": "code",
   "execution_count": null,
   "metadata": {},
   "outputs": [],
   "source": [
    "market_queue.pop(0)\n",
    "print(market_queue)"
   ]
  },
  {
   "cell_type": "markdown",
   "metadata": {},
   "source": [
    "\"Davut\" ismini \"David\" olarak değiştirmiştir."
   ]
  },
  {
   "cell_type": "code",
   "execution_count": null,
   "metadata": {},
   "outputs": [],
   "source": [
    "market_queue[1] = \"David\"\n",
    "print(market_queue)"
   ]
  },
  {
   "cell_type": "markdown",
   "metadata": {},
   "source": [
    "Sıraya \"Mehmet\" ve \"John\" eklenmiştir."
   ]
  },
  {
   "cell_type": "code",
   "execution_count": null,
   "metadata": {},
   "outputs": [],
   "source": [
    "market_queue.extend([\"Mehmet\", \"John\"])\n",
    "print(market_queue)"
   ]
  },
  {
   "cell_type": "markdown",
   "metadata": {},
   "source": [
    "\"Esra\", bir şeyi almayı unuttuğunu farketmiş ve sıradan ayrılmıştır."
   ]
  },
  {
   "cell_type": "code",
   "execution_count": null,
   "metadata": {},
   "outputs": [],
   "source": [
    "market_queue.remove(\"Esra\")\n",
    "print(market_queue)"
   ]
  },
  {
   "cell_type": "markdown",
   "metadata": {},
   "source": [
    "John, son otobüse yetişmesi geretiğin söyleyince, Gabrielle onunla yerini değişmiştir."
   ]
  },
  {
   "cell_type": "code",
   "execution_count": null,
   "metadata": {},
   "outputs": [],
   "source": [
    "# something pythonic :)\n",
    "market_queue[2], market_queue[-1] = market_queue[-1], market_queue[2]\n",
    "print(market_queue)"
   ]
  },
  {
   "cell_type": "markdown",
   "metadata": {},
   "source": [
    "Şu anda ilk sıradaki kişi işlemini tamamlayarak sıradan ayrılmıştır."
   ]
  },
  {
   "cell_type": "code",
   "execution_count": null,
   "metadata": {},
   "outputs": [],
   "source": [
    "market_queue.pop(0)\n",
    "print(market_queue)"
   ]
  },
  {
   "cell_type": "markdown",
   "metadata": {},
   "source": [
    "Sıranın sonuna \"Thomas\" katılmıştır."
   ]
  },
  {
   "cell_type": "code",
   "execution_count": null,
   "metadata": {},
   "outputs": [],
   "source": [
    "market_queue.append(\"Thomas\")\n",
    "print(market_queue)"
   ]
  },
  {
   "cell_type": "markdown",
   "metadata": {},
   "source": [
    "İkinci kasa \"market_queue_2\" açılmış ve bekleyen müşterilere \"gelin\" demiştir. Kuyruk tam ortadan itibaren ikiye bölünmüş ve ikinci kasaya geçmiştir."
   ]
  },
  {
   "cell_type": "code",
   "execution_count": null,
   "metadata": {},
   "outputs": [],
   "source": [
    "market_queue_2 = market_queue[len(market_queue)//2:]\n",
    "market_queue = market_queue[:len(market_queue)//2]\n",
    "print(market_queue)\n",
    "print(market_queue_2)"
   ]
  },
  {
   "cell_type": "markdown",
   "metadata": {},
   "source": [
    "\"Dwayne\" ve \"Taha\" , birinci kuyruğa eklenmiştir."
   ]
  },
  {
   "cell_type": "code",
   "execution_count": null,
   "metadata": {},
   "outputs": [],
   "source": [
    "market_queue += [\"Dwayne\", \"Taha\"]\n",
    "print(market_queue)"
   ]
  },
  {
   "cell_type": "markdown",
   "metadata": {},
   "source": [
    "\"Jane\" ikinci kuyruğa eklenmiştir. Özel durumundan dolayı ikinci sıraya eklenmiştir."
   ]
  },
  {
   "cell_type": "code",
   "execution_count": null,
   "metadata": {},
   "outputs": [],
   "source": [
    "market_queue_2.insert(1, \"Jane\")\n",
    "market_queue_2"
   ]
  },
  {
   "cell_type": "markdown",
   "metadata": {},
   "source": [
    "birinci kuyrukta şu an kaç kişi bulunmaktadır?"
   ]
  },
  {
   "cell_type": "code",
   "execution_count": null,
   "metadata": {},
   "outputs": [],
   "source": [
    "len(market_queue)"
   ]
  },
  {
   "cell_type": "markdown",
   "metadata": {},
   "source": [
    "David kaçınıcı sırada bulunmaktadır?"
   ]
  },
  {
   "cell_type": "code",
   "execution_count": null,
   "metadata": {},
   "outputs": [],
   "source": [
    "market_queue.index(\"David\")"
   ]
  },
  {
   "cell_type": "markdown",
   "metadata": {},
   "source": [
    "İkinci kuyruktakiler aralarında anlaşarak alfabetik sıraya göre sıralanmışlardır."
   ]
  },
  {
   "cell_type": "code",
   "execution_count": null,
   "metadata": {},
   "outputs": [],
   "source": [
    "market_queue_2.sort()\n",
    "market_queue_2"
   ]
  },
  {
   "cell_type": "markdown",
   "metadata": {},
   "source": [
    "İkinci sıradaki ilk kişi işlemini tamamlayarak ayrılmıştır."
   ]
  },
  {
   "cell_type": "code",
   "execution_count": null,
   "metadata": {},
   "outputs": [],
   "source": [
    "market_queue_2.pop(0)\n",
    "print(market_queue_2)"
   ]
  },
  {
   "cell_type": "markdown",
   "metadata": {},
   "source": [
    "Birinci kuyruktakiler aralarında anlaşarak alfabetik sıraya azalan (z den a ya) göre sıralanmışlardır."
   ]
  },
  {
   "cell_type": "code",
   "execution_count": null,
   "metadata": {},
   "outputs": [],
   "source": [
    "market_queue.sort(reverse=True)\n",
    "print(market_queue)"
   ]
  },
  {
   "cell_type": "markdown",
   "metadata": {},
   "source": [
    "Birinci kuyruktaki son kişi, o sıradan ayrılıp ikinci kuyruğa geçmiştir."
   ]
  },
  {
   "cell_type": "code",
   "execution_count": null,
   "metadata": {},
   "outputs": [],
   "source": [
    "last_one = market_queue.pop()\n",
    "market_queue_2.append(last_one)\n",
    "print(market_queue)\n",
    "print(market_queue_2)"
   ]
  },
  {
   "cell_type": "markdown",
   "metadata": {},
   "source": [
    "Birinci kuyruktaki ilk iki kişi kimdir"
   ]
  },
  {
   "cell_type": "code",
   "execution_count": null,
   "metadata": {},
   "outputs": [],
   "source": [
    "market_queue[:2]"
   ]
  },
  {
   "cell_type": "markdown",
   "metadata": {},
   "source": [
    "İkinci kuyruktaki son iki kişi kimdir?"
   ]
  },
  {
   "cell_type": "code",
   "execution_count": null,
   "metadata": {},
   "outputs": [],
   "source": [
    "market_queue_2[-2:]"
   ]
  },
  {
   "cell_type": "markdown",
   "metadata": {},
   "source": [
    "Birinci kasa arıza vermiş, birinci kuyruktaki herkes ikinci kuyruğun sonuna eklenmiştir!"
   ]
  },
  {
   "cell_type": "code",
   "execution_count": null,
   "metadata": {},
   "outputs": [],
   "source": [
    "market_queue_2.extend(market_queue)\n",
    "print(market_queue_2)"
   ]
  },
  {
   "cell_type": "markdown",
   "metadata": {},
   "source": [
    "Yeni durumda John, kaçıncı sıradadır?"
   ]
  },
  {
   "cell_type": "code",
   "execution_count": null,
   "metadata": {},
   "outputs": [],
   "source": [
    "market_queue_2.index(\"John\")"
   ]
  }
 ],
 "metadata": {
  "kernelspec": {
   "display_name": "Python 3",
   "language": "python",
   "name": "python3"
  },
  "language_info": {
   "codemirror_mode": {
    "name": "ipython",
    "version": 3
   },
   "file_extension": ".py",
   "mimetype": "text/x-python",
   "name": "python",
   "nbconvert_exporter": "python",
   "pygments_lexer": "ipython3",
   "version": "3.12.0"
  }
 },
 "nbformat": 4,
 "nbformat_minor": 2
}
