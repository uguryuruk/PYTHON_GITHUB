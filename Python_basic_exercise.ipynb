{
 "cells": [
  {
   "cell_type": "markdown",
   "metadata": {},
   "source": [
    "# PYTHON EGZERSİZLERİ"
   ]
  },
  {
   "cell_type": "markdown",
   "metadata": {},
   "source": [
    "# ÇÖZÜMLER"
   ]
  },
  {
   "cell_type": "markdown",
   "metadata": {},
   "source": [
    "## CASE 1:"
   ]
  },
  {
   "cell_type": "markdown",
   "metadata": {},
   "source": [
    "Bir okulda şehir dışına Bolu'da gezi düzenlenmesi gerekmektedir. Öğrencilerin ulaşımı ve konaklamasını organize etmek size kalmıştır :) Sadece bir gece konaklama olacaktır.\n",
    "\n",
    "Temel olarak görevleriniz: \n",
    "* Optimize şekilde ulaşımı sağlamak\n",
    "* Optimize şekilde konaklamayı sağlamak\n",
    "* Bunlar için gerekli bütçeyi hesaplamak ve ödemeleri yapmak\n"
   ]
  },
  {
   "cell_type": "markdown",
   "metadata": {},
   "source": [
    "Ulaşım otobüslerle ve öğretmenlerin kişisel araçlarıyla sağlanacaktır. Otobüslerin kapasitesi 45 kişidir. Tam dolan otobüsler ayarlanacak, artan öğrenciler öğretmenlerin araçlarıyla (her bir araçta 4 öğrenci) gelecektir.\n",
    "\n",
    "Örneğin; 52 öğrenci geleceğini bildirirse, \n",
    "1 otobüs ayarlanacak,\n",
    "7 öğrenci otobüs dışı gelecek, \n",
    "7 öğrenciyi de 2 öğretmen aracıyla getirecektir.\n",
    "\n"
   ]
  },
  {
   "cell_type": "markdown",
   "metadata": {},
   "source": [
    "### SORU 1:\n",
    "865 öğrenci geleceğini bildirmiştir. Değişkenleri belirleyerek:\n",
    "* Ayarlanacak otobüs sayısı\n",
    "* otobüslerden artan öğrenci sayısı\n",
    "* Gelecek öğretmen sayısını belirleyiniz.\n",
    "\n"
   ]
  },
  {
   "cell_type": "markdown",
   "metadata": {},
   "source": [
    "Önce değişkenleri oluşturunuz (mümkünse ingilizce, anlaşılacak isimler vererek:)"
   ]
  },
  {
   "cell_type": "code",
   "execution_count": 38,
   "metadata": {},
   "outputs": [],
   "source": []
  },
  {
   "cell_type": "markdown",
   "metadata": {},
   "source": [
    "gelecek otobüs sayısını hesaplayınız:"
   ]
  },
  {
   "cell_type": "code",
   "execution_count": null,
   "metadata": {},
   "outputs": [],
   "source": []
  },
  {
   "cell_type": "markdown",
   "metadata": {},
   "source": [
    "otobüslerden artan, araçla gidecek öğrenci sayısı"
   ]
  },
  {
   "cell_type": "code",
   "execution_count": null,
   "metadata": {},
   "outputs": [],
   "source": []
  },
  {
   "cell_type": "markdown",
   "metadata": {},
   "source": [
    "Gelecek öğretmen sayısı. \n",
    "\n",
    "(ipucu: math modülündeki ceil fonksiyonu yukarı yuvarlar!)"
   ]
  },
  {
   "cell_type": "code",
   "execution_count": null,
   "metadata": {},
   "outputs": [],
   "source": []
  },
  {
   "cell_type": "markdown",
   "metadata": {},
   "source": [
    "22 öğrenci hastalık sebebiyle gelemeyeceğini söylemiştir. Buna göre tekrar hesaplayınız!:\n",
    "* Ayarlanacak otobüs sayısı\n",
    "* otobüslerden artan öğrenci sayısı\n",
    "* Gelecek öğretmen sayısı."
   ]
  },
  {
   "cell_type": "code",
   "execution_count": null,
   "metadata": {},
   "outputs": [],
   "source": []
  },
  {
   "cell_type": "markdown",
   "metadata": {},
   "source": [
    "15 öğrenci sonradan kayıt yaptırmak, gelmek istemiştir. Yeni otobüs açma durumunu değerlendirerek (eğer öğretmen sayısını azaltacaksa) olumlu cevap verip yeniden hesaplayınız."
   ]
  },
  {
   "cell_type": "code",
   "execution_count": null,
   "metadata": {},
   "outputs": [],
   "source": []
  },
  {
   "cell_type": "markdown",
   "metadata": {},
   "source": [
    "Otel rezervasyonu: OTELDE 200 Adet 3 kişilik, 200 adet de 2 kişilik oda bulunmaktadır. Öğretmenler bir arada, öğrenciler bir arada kalacak şekilde rezervasyon yapılacaktır.  \n",
    "\n",
    "Hatırlatma: öğrenciler ve öğretmenler ayrı kalacaktır!\n",
    "* 3 kişilik oda için kişi başı fiyat: 100 ₺\n",
    "* 2 kişilik oda için kişi başı fiyat: 140 ₺\n",
    "* 2 kişilik odada tek kişi kalırsa fiyatı: 200 ₺"
   ]
  },
  {
   "cell_type": "markdown",
   "metadata": {},
   "source": [
    "### SORU 2:\n",
    "Gelecek öğrenci ve öğretmen sayısına uygun olarak otel rezervasyonunun yapınız!\n",
    "* Kaç oda ayrılması gerekmektedir?\n",
    "* üç kişilik odaların sayısı ve maliyeti nedir?\n",
    "* iki kişilik odaların sayısı ve maliyeti nedir?\n",
    "* tek kişi kalanların sayısı ve maliyeti nedir?\n",
    "* Odaların toplam maliyeti nedir?"
   ]
  },
  {
   "cell_type": "markdown",
   "metadata": {},
   "source": [
    "3 kişilik oda ve 2 kişilik oda sayıları için ayrı ayrı değişkenler açınız.\n",
    "\n",
    "Yukarıdaki odaların maliyetleri için ayrı ayrı değişkenler ile Otel maliyeti için ayrı bir değişken açınız.\n",
    "\n",
    "İpucu: 3 kişilik odalar daha hesaplıdır!"
   ]
  },
  {
   "cell_type": "code",
   "execution_count": null,
   "metadata": {},
   "outputs": [],
   "source": []
  },
  {
   "cell_type": "code",
   "execution_count": null,
   "metadata": {},
   "outputs": [],
   "source": []
  },
  {
   "cell_type": "markdown",
   "metadata": {},
   "source": [
    "Okul müdürü ve 3 müdür yardımcısı da geziye katılacağını bildirmiştir. Kendi arabalarıyla gelecekler ve herhangi bir öğrenci almayacaklardır, ücret de almayacaklardır. Ancak otel masrafları ödenecektir.\n",
    "\n",
    "Okul müdürü eşiyle geleceğini söylemiştir. Müdür yardımcıları ise tek tek kalmak istediğini söylemiştir."
   ]
  },
  {
   "cell_type": "markdown",
   "metadata": {},
   "source": [
    "Bunlar için evli ve bekar VIP değişkenleri açarak işlem yapınız!"
   ]
  },
  {
   "cell_type": "code",
   "execution_count": null,
   "metadata": {},
   "outputs": [],
   "source": []
  },
  {
   "cell_type": "markdown",
   "metadata": {},
   "source": [
    "Odaların toplam maliyeti"
   ]
  },
  {
   "cell_type": "code",
   "execution_count": null,
   "metadata": {},
   "outputs": [],
   "source": []
  },
  {
   "cell_type": "markdown",
   "metadata": {},
   "source": [
    "### SORU 3:\n",
    "Toplam ödenecek bütçeyi hesaplayınız:\n",
    "* Öğretmenlere kişi başı 500₺ benzin parası verilecektir.\n",
    "* Öğretmen ve öğrencilerin tüm otel masrafları karşılanacaktır.\n",
    "* Otobüslerin her birine 5000₺ ödenecektir."
   ]
  },
  {
   "cell_type": "markdown",
   "metadata": {},
   "source": [
    "ulaşım masrafı olarak tek değişken açınız."
   ]
  },
  {
   "cell_type": "code",
   "execution_count": null,
   "metadata": {},
   "outputs": [],
   "source": []
  },
  {
   "cell_type": "markdown",
   "metadata": {},
   "source": [
    "Genel toplam maliyet:"
   ]
  },
  {
   "cell_type": "code",
   "execution_count": null,
   "metadata": {},
   "outputs": [],
   "source": []
  },
  {
   "cell_type": "markdown",
   "metadata": {},
   "source": [
    "Müdür \"her öğrenciden 150 TL toplayın\" demiştir. Buna göre toplanacak parayı hesaplayınız."
   ]
  },
  {
   "cell_type": "code",
   "execution_count": null,
   "metadata": {},
   "outputs": [],
   "source": []
  },
  {
   "cell_type": "markdown",
   "metadata": {},
   "source": [
    "Varsa kar durumunu, yoksa okul bütçesinden ödenecek tutarı hesaplayınız."
   ]
  },
  {
   "cell_type": "code",
   "execution_count": null,
   "metadata": {},
   "outputs": [],
   "source": []
  },
  {
   "cell_type": "markdown",
   "metadata": {},
   "source": [
    "Otel ile görüşüp pazarlık yapmanız istenmiştir. Uzun süren bir görüşme sonucunda **sadece öğrencilere %10 indirim** yapılacağı söylenmiştir!\n",
    "\n",
    "Bu durumda maliyeti ve bütçeden ödenecek tutarı yeniden hesaplayınız."
   ]
  },
  {
   "cell_type": "code",
   "execution_count": null,
   "metadata": {},
   "outputs": [],
   "source": []
  },
  {
   "cell_type": "code",
   "execution_count": null,
   "metadata": {},
   "outputs": [],
   "source": []
  },
  {
   "cell_type": "markdown",
   "metadata": {},
   "source": [
    "Durumu müdüre anlattığınızda müdürün içindeki \"cimri\" yan depreşmiş, okulun cebinden para çıkmaması için hangi parayı toplamaları gerektiğini sormuştur."
   ]
  },
  {
   "cell_type": "code",
   "execution_count": null,
   "metadata": {},
   "outputs": [],
   "source": []
  },
  {
   "cell_type": "markdown",
   "metadata": {},
   "source": [
    "Müdür, 200 ₺ toplasak, öğretmenlerin benzinini ödemesek sadece otelini ödesek kurtarıyor mu diye sormuştur.\n",
    "\n",
    "Öyle bir ifade yazınız ki bool sonuç dönsün :)"
   ]
  },
  {
   "cell_type": "code",
   "execution_count": null,
   "metadata": {},
   "outputs": [],
   "source": []
  },
  {
   "cell_type": "markdown",
   "metadata": {},
   "source": [
    "Müdür insafa gelmiş, \"tamam 200 ₺ toplayın gitsin\" demiştir. Öğretmen benzin parasını da ödeyecektir."
   ]
  },
  {
   "cell_type": "markdown",
   "metadata": {},
   "source": [
    "## SORU 4\n",
    "\n",
    "Gezi çok güzel geçmiştir, herkes \"bir sonraki dönem tekrar yapalım, bu sefer daha uzun olsun\" demiştir. Ancak biz seneye yukarıdaki kadar çok işlem yapmak istiyor muyuz??\n",
    "\n",
    "Normalde bu tarz bir işlemi excelde belli yerlere sayıları girip, formüllerle hesaplatacak şekilde yapardık. Sonra o dosyayı bir yere kaydedip, yerini unutup, bir sonraki sefer işimiz düştüğünde harıl harıl arardık :) Bunun yerine bunu Python ile yapalım.\n",
    "\n",
    "O yüzden yukarıda yaptıklarımızı birkaç fonksiyon halinde gruplayalım. Sadece gelen parametreleri alacak, değişiklik durumunda yeni parametre ile işlem yapacak birkaç fonksiyon yazalım.\n",
    "\n",
    "__İPUCU:__ Fonksiyon içinden diğer fonksiyonları çağırıp işlem yaptırabilirsiniz!\n",
    "\n",
    "__BENİM TAVSİYEM__:\n",
    "* Otobüs ve öğretmen otosu sayısını hesaplayan bir fonksiyon.\n",
    "* Otelde 3 kişilik ve iki kişilik odalarda kalacak öğrenci, öğretmen ve müdür sayısını hesaplayan fonksiyon\n",
    "* otel maliyetini hesaplayan bir fonksiyon\n",
    "* ulaşım maliyetini hesaplayan bir fonksiyon\n",
    "* Toplam maliyeti hesaplayan bir fonksiyon\n",
    "* Toplanacak para miktarını hesaplayan bir fonksiyon\n",
    "* Toplanacak para miktarına göre kar/zarar durumunu hesaplayan bir fonksiyon"
   ]
  },
  {
   "cell_type": "markdown",
   "metadata": {},
   "source": [
    "## SORU 5\n",
    "\n",
    "Yeni dönem gelip çatmıştır. Bu sefer parametreler biraz farklıdır:\n",
    "* Çanakkale'de 3 gün konaklamalı bir gezi düzenlenecektir.\n",
    "* Otobüs kapasitesi 40'tır ve fiyatı 6000₺ dir.\n",
    "* Her koşulda en az 5 öğretmen katılacaktır.\n",
    "* Öğretmen benzin masrafı 1000₺ dir.\n",
    "* Otelde 150 adet 3 kişilik, 400 adet 2 kişilik oda bulunmaktadır.\n",
    "* Kişi başı fiyat: \n",
    "    * 3 kişilik odada 200₺\n",
    "    * 2 kişilik odada 250₺\n",
    "    * Tek kalınması halinde 300₺ dir.\n",
    "* Müdür ve 1 müdür yardımcısı eşiyle katılacaktır. 2 müdür yardımcısı ise tek kalacaktır.\n",
    "* Okul bütçesinden para çıkmayacaktır, minimum kar elde edilecektir. \n",
    "* Sadece öğrencilerden para toplanacaktır. Fiyatı sadece 20'nin katları olarak belirleyebilirsiniz (180, 200, 220 gibi)\n",
    "* katılacak öğrenci sayısı 957'dir.\n",
    "\n",
    "Eveeeet, işler biraz karıştı. Fonksiyonlarınızı buna göre güncelleyerek:\n",
    "* Ayarlanacak Tek, 2 ve 3 kişilik oda sayısını bulup rezervasyonu yaptırınız.\n",
    "* Öğrencilerden toplanacak para tutarını hesaplayınız.\n",
    "* Otele ödenecek parayı hesaplayınız. (%20'sini kaparo olarak istemektedirler.)\n",
    "* Otobüs firmasına ödenecek parayı hesaplayınız.\n",
    "* Kar miktarını hesaplayınız."
   ]
  }
 ],
 "metadata": {
  "kernelspec": {
   "display_name": "Python 3",
   "language": "python",
   "name": "python3"
  },
  "language_info": {
   "codemirror_mode": {
    "name": "ipython",
    "version": 3
   },
   "file_extension": ".py",
   "mimetype": "text/x-python",
   "name": "python",
   "nbconvert_exporter": "python",
   "pygments_lexer": "ipython3",
   "version": "3.12.0"
  }
 },
 "nbformat": 4,
 "nbformat_minor": 2
}
