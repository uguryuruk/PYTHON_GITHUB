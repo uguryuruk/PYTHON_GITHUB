{
 "cells": [
  {
   "cell_type": "markdown",
   "metadata": {},
   "source": [
    "# PYTHON EGZERSİZLERİ"
   ]
  },
  {
   "cell_type": "markdown",
   "metadata": {},
   "source": [
    "# ÇÖZÜMLER"
   ]
  },
  {
   "cell_type": "markdown",
   "metadata": {},
   "source": [
    "## CASE 1:"
   ]
  },
  {
   "cell_type": "markdown",
   "metadata": {},
   "source": [
    "Bir okulda şehir dışına Bolu'da gezi düzenlenmesi gerekmektedir. Öğrencilerin ulaşımı ve konaklamasını organize etmek size kalmıştır :) Sadece bir gece konaklama olacaktır.\n",
    "\n",
    "Temel olarak görevleriniz: \n",
    "* Optimize şekilde ulaşımı sağlamak\n",
    "* Optimize şekilde konaklamayı sağlamak\n",
    "* Bunlar için gerekli bütçeyi hesaplamak ve ödemeleri yapmak\n"
   ]
  },
  {
   "cell_type": "markdown",
   "metadata": {},
   "source": [
    "Ulaşım otobüslerle ve öğretmenlerin kişisel araçlarıyla sağlanacaktır. Otobüslerin kapasitesi 45 kişidir. Tam dolan otobüsler ayarlanacak, artan öğrenciler öğretmenlerin araçlarıyla (her bir araçta 4 öğrenci) gelecektir.\n",
    "\n",
    "Örneğin; 52 öğrenci geleceğini bildirirse, \n",
    "1 otobüs ayarlanacak,\n",
    "7 öğrenci otobüs dışı gelecek, \n",
    "7 öğrenciyi de 2 öğretmen aracıyla getirecektir.\n",
    "\n"
   ]
  },
  {
   "cell_type": "markdown",
   "metadata": {},
   "source": [
    "### SORU 1:\n",
    "865 öğrenci geleceğini bildirmiştir. Değişkenleri belirleyerek:\n",
    "* Ayarlanacak otobüs sayısı\n",
    "* otobüslerden artan öğrenci sayısı\n",
    "* Gelecek öğretmen sayısını belirleyiniz.\n",
    "\n"
   ]
  },
  {
   "cell_type": "markdown",
   "metadata": {},
   "source": [
    "Önce değişkenleri oluşturunuz (mümkünse ingilizce, anlaşılacak isimler vererek:)"
   ]
  },
  {
   "cell_type": "code",
   "execution_count": 38,
   "metadata": {},
   "outputs": [],
   "source": [
    "student_count = 865\n",
    "bus_capacity = 45\n",
    "teacher_count = 0\n",
    "\n",
    "extra_students = 0\n",
    "bus_count = 0\n"
   ]
  },
  {
   "cell_type": "markdown",
   "metadata": {},
   "source": [
    "gelecek otobüs sayısını hesaplayınız:"
   ]
  },
  {
   "cell_type": "code",
   "execution_count": 39,
   "metadata": {},
   "outputs": [
    {
     "name": "stdout",
     "output_type": "stream",
     "text": [
      "19\n"
     ]
    }
   ],
   "source": [
    "bus_count = student_count // bus_capacity\n",
    "print(bus_count)"
   ]
  },
  {
   "cell_type": "markdown",
   "metadata": {},
   "source": [
    "otobüslerden artan, araçla gidecek öğrenci sayısı"
   ]
  },
  {
   "cell_type": "code",
   "execution_count": 40,
   "metadata": {},
   "outputs": [
    {
     "name": "stdout",
     "output_type": "stream",
     "text": [
      "10\n"
     ]
    }
   ],
   "source": [
    "extra_students = student_count % bus_capacity\n",
    "print(extra_students)"
   ]
  },
  {
   "cell_type": "markdown",
   "metadata": {},
   "source": [
    "Gelecek öğretmen sayısı. \n",
    "\n",
    "(ipucu: math modülündeki ceil fonksiyonu yukarı yuvarlar!)"
   ]
  },
  {
   "cell_type": "code",
   "execution_count": 41,
   "metadata": {},
   "outputs": [
    {
     "name": "stdout",
     "output_type": "stream",
     "text": [
      "3\n"
     ]
    }
   ],
   "source": [
    "import math\n",
    "\n",
    "teacher_count = math.ceil(extra_students / 4)\n",
    "print(teacher_count)"
   ]
  },
  {
   "cell_type": "markdown",
   "metadata": {},
   "source": [
    "22 öğrenci hastalık sebebiyle gelemeyeceğini söylemiştir. Buna göre tekrar hesaplayınız!:\n",
    "* Ayarlanacak otobüs sayısı\n",
    "* otobüslerden artan öğrenci sayısı\n",
    "* Gelecek öğretmen sayısı."
   ]
  },
  {
   "cell_type": "code",
   "execution_count": 42,
   "metadata": {},
   "outputs": [
    {
     "name": "stdout",
     "output_type": "stream",
     "text": [
      "students: 843\n",
      "bus 18\n",
      "extra students 33\n",
      "teacher count 9\n"
     ]
    }
   ],
   "source": [
    "student_count -= 22\n",
    "print(\"students:\", student_count)\n",
    "\n",
    "bus_count = student_count // bus_capacity\n",
    "print(\"bus\", bus_count)\n",
    "\n",
    "extra_students = student_count % bus_capacity\n",
    "print(\"extra students\", extra_students)\n",
    "\n",
    "teacher_count = math.ceil(extra_students / 4)\n",
    "print(\"teacher count\", teacher_count)"
   ]
  },
  {
   "cell_type": "markdown",
   "metadata": {},
   "source": [
    "15 öğrenci sonradan kayıt yaptırmak, gelmek istemiştir. Yeni otobüs açma durumunu değerlendirerek (eğer öğretmen sayısını azaltacaksa) olumlu cevap verip yeniden hesaplayınız."
   ]
  },
  {
   "cell_type": "code",
   "execution_count": 43,
   "metadata": {},
   "outputs": [
    {
     "name": "stdout",
     "output_type": "stream",
     "text": [
      "students: 858\n",
      "bus 19\n",
      "extra students 3\n",
      "teacher count 1\n"
     ]
    }
   ],
   "source": [
    "# student_count = 843\n",
    "student_count += 15\n",
    "print(\"students:\", student_count)\n",
    "\n",
    "bus_count = student_count // bus_capacity\n",
    "print(\"bus\", bus_count)\n",
    "\n",
    "extra_students = student_count % bus_capacity\n",
    "print(\"extra students\", extra_students)\n",
    "\n",
    "teacher_count = math.ceil(extra_students / 4)\n",
    "print(\"teacher count\", teacher_count)"
   ]
  },
  {
   "cell_type": "markdown",
   "metadata": {},
   "source": [
    "Otel rezervasyonu: OTELDE 200 Adet 3 kişilik, 200 adet de 2 kişilik oda bulunmaktadır. Öğretmenler bir arada, öğrenciler bir arada kalacak şekilde rezervasyon yapılacaktır.  \n",
    "\n",
    "Hatırlatma: öğrenciler ve öğretmenler ayrı kalacaktır!\n",
    "* 3 kişilik oda için kişi başı fiyat: 100 ₺\n",
    "* 2 kişilik oda için kişi başı fiyat: 140 ₺\n",
    "* 2 kişilik odada tek kişi kalırsa fiyatı: 200 ₺"
   ]
  },
  {
   "cell_type": "markdown",
   "metadata": {},
   "source": [
    "### SORU 2:\n",
    "Gelecek öğrenci ve öğretmen sayısına uygun olarak otel rezervasyonunun yapınız!\n",
    "* Kaç oda ayrılması gerekmektedir?\n",
    "* üç kişilik odaların sayısı ve maliyeti nedir?\n",
    "* iki kişilik odaların sayısı ve maliyeti nedir?\n",
    "* tek kişi kalanların sayısı ve maliyeti nedir?\n",
    "* Odaların toplam maliyeti nedir?"
   ]
  },
  {
   "cell_type": "markdown",
   "metadata": {},
   "source": [
    "3 kişilik oda ve 2 kişilik oda sayıları için ayrı ayrı değişkenler açınız.\n",
    "\n",
    "Yukarıdaki odaların maliyetleri için ayrı ayrı değişkenler ile Otel maliyeti için ayrı bir değişken açınız.\n",
    "\n",
    "İpucu: 3 kişilik odalar daha hesaplıdır!"
   ]
  },
  {
   "cell_type": "code",
   "execution_count": 44,
   "metadata": {},
   "outputs": [
    {
     "name": "stdout",
     "output_type": "stream",
     "text": [
      "triple room 200\n",
      "rest students 258\n",
      "double room 129\n",
      "single room 0\n"
     ]
    }
   ],
   "source": [
    "triple_room_count = 0\n",
    "\n",
    "if student_count // 3 <= 200:\n",
    "    triple_room_count = student_count // 3\n",
    "else:\n",
    "    triple_room_count = 200\n",
    "    \n",
    "# triple_room_count = student_count // 3 if student_count // 3 <= 200 else 200\n",
    "print(\"triple room\", triple_room_count)\n",
    "\n",
    "rest_student_count = student_count - (triple_room_count * 3)\n",
    "print(\"rest students\", rest_student_count)\n",
    "\n",
    "double_room_count = rest_student_count // 2\n",
    "single_room_count = rest_student_count % 2\n",
    "print(\"double room\", double_room_count)\n",
    "print(\"single room\", single_room_count)"
   ]
  },
  {
   "cell_type": "code",
   "execution_count": 45,
   "metadata": {},
   "outputs": [
    {
     "name": "stdout",
     "output_type": "stream",
     "text": [
      "double room 129\n",
      "single room 1\n"
     ]
    }
   ],
   "source": [
    "# öğretmenler ayrı kalacak:\n",
    "\n",
    "if teacher_count > 1 and teacher_count % 2 == 0:\n",
    "    double_room_count += teacher_count // 2\n",
    "    \n",
    "elif teacher_count > 1 and teacher_count % 2 == 1:\n",
    "    double_room_count += teacher_count // 2\n",
    "    single_room_count += 1\n",
    "    \n",
    "else: # demek ki tek kişi var\n",
    "    single_room_count += 1\n",
    "    \n",
    "print(\"double room\", double_room_count)\n",
    "print(\"single room\", single_room_count)"
   ]
  },
  {
   "cell_type": "markdown",
   "metadata": {},
   "source": [
    "Okul müdürü ve 3 müdür yardımcısı da geziye katılacağını bildirmiştir. Kendi arabalarıyla gelecekler ve herhangi bir öğrenci almayacaklardır, ücret de almayacaklardır. Ancak otel masrafları ödenecektir.\n",
    "\n",
    "Okul müdürü eşiyle geleceğini söylemiştir. Müdür yardımcıları ise tek tek kalmak istediğini söylemiştir."
   ]
  },
  {
   "cell_type": "markdown",
   "metadata": {},
   "source": [
    "Bunlar için evli ve bekar VIP değişkenleri açarak işlem yapınız!"
   ]
  },
  {
   "cell_type": "code",
   "execution_count": 46,
   "metadata": {},
   "outputs": [
    {
     "name": "stdout",
     "output_type": "stream",
     "text": [
      "triple room 200\n",
      "double room 130\n",
      "single room 4\n"
     ]
    }
   ],
   "source": [
    "married_VIP = 1\n",
    "single_VIP = 3\n",
    "\n",
    "single_room_count += single_VIP\n",
    "double_room_count += married_VIP\n",
    "print(\"triple room\", triple_room_count)\n",
    "print(\"double room\", double_room_count)\n",
    "print(\"single room\", single_room_count)"
   ]
  },
  {
   "cell_type": "markdown",
   "metadata": {},
   "source": [
    "Odaların toplam maliyeti"
   ]
  },
  {
   "cell_type": "code",
   "execution_count": 62,
   "metadata": {},
   "outputs": [
    {
     "name": "stdout",
     "output_type": "stream",
     "text": [
      "60000 36400 800\n",
      "97200\n"
     ]
    }
   ],
   "source": [
    "# maliyetler\n",
    "triple_room_cost = triple_room_count * 300\n",
    "double_room_cost = double_room_count * 280\n",
    "single_room_cost = single_room_count * 200\n",
    "total_hotel_cost = triple_room_cost + double_room_cost + single_room_cost\n",
    "print(triple_room_cost, double_room_cost, single_room_cost)\n",
    "print(total_hotel_cost)"
   ]
  },
  {
   "cell_type": "markdown",
   "metadata": {},
   "source": [
    "### SORU 3:\n",
    "Toplam ödenecek bütçeyi hesaplayınız:\n",
    "* Öğretmenlere kişi başı 500₺ benzin parası verilecektir.\n",
    "* Öğretmen ve öğrencilerin tüm otel masrafları karşılanacaktır.\n",
    "* Otobüslerin her birine 5000₺ ödenecektir."
   ]
  },
  {
   "cell_type": "markdown",
   "metadata": {},
   "source": [
    "ulaşım masrafı olarak tek değişken açınız."
   ]
  },
  {
   "cell_type": "code",
   "execution_count": 63,
   "metadata": {},
   "outputs": [
    {
     "name": "stdout",
     "output_type": "stream",
     "text": [
      "95500\n"
     ]
    }
   ],
   "source": [
    "transportation_cost = (500 * teacher_count) + (5000 * bus_count)\n",
    "print(transportation_cost)"
   ]
  },
  {
   "cell_type": "markdown",
   "metadata": {},
   "source": [
    "Genel toplam maliyet:"
   ]
  },
  {
   "cell_type": "code",
   "execution_count": 64,
   "metadata": {},
   "outputs": [
    {
     "name": "stdout",
     "output_type": "stream",
     "text": [
      "192700\n"
     ]
    }
   ],
   "source": [
    "total_cost = total_hotel_cost + transportation_cost\n",
    "print(total_cost)"
   ]
  },
  {
   "cell_type": "markdown",
   "metadata": {},
   "source": [
    "Müdür \"her öğrenciden 150 TL toplayın\" demiştir. Buna göre toplanacak parayı hesaplayınız."
   ]
  },
  {
   "cell_type": "code",
   "execution_count": 65,
   "metadata": {},
   "outputs": [
    {
     "name": "stdout",
     "output_type": "stream",
     "text": [
      "128700\n"
     ]
    }
   ],
   "source": [
    "collected_money = student_count * 150\n",
    "print(collected_money)"
   ]
  },
  {
   "cell_type": "markdown",
   "metadata": {},
   "source": [
    "Varsa kar durumunu, yoksa okul bütçesinden ödenecek tutarı hesaplayınız."
   ]
  },
  {
   "cell_type": "code",
   "execution_count": 66,
   "metadata": {},
   "outputs": [
    {
     "name": "stdout",
     "output_type": "stream",
     "text": [
      "-64000\n"
     ]
    }
   ],
   "source": [
    "budget_payment = collected_money - total_cost\n",
    "print(budget_payment)"
   ]
  },
  {
   "cell_type": "markdown",
   "metadata": {},
   "source": [
    "Otel ile görüşüp pazarlık yapmanız istenmiştir. Uzun süren bir görüşme sonucunda **sadece öğrencilere %10 indirim** yapılacağı söylenmiştir!\n",
    "\n",
    "Bu durumda maliyeti ve bütçeden ödenecek tutarı yeniden hesaplayınız."
   ]
  },
  {
   "cell_type": "code",
   "execution_count": 67,
   "metadata": {},
   "outputs": [
    {
     "name": "stdout",
     "output_type": "stream",
     "text": [
      "600 129 0\n",
      "78060\n",
      "7806.0\n"
     ]
    }
   ],
   "source": [
    "# öğrenci ve diğerlerini ayırt etmemiz gerekli!\n",
    "# baştan bilseydik keşke!!\n",
    "# baştan bilsek, buna göre ayrı ayrı değişkenler açardık, hızlıca hesaplardık.\n",
    "# neyse sadece öğrencilerden indirilecek tutarı hesaplayıp günü kurtaralım.\n",
    "triple_room_students = triple_room_count * 3\n",
    "\n",
    "double_room_students = rest_student_count // 2 \n",
    "single_room_students = rest_student_count % 2\n",
    "print(triple_room_students, double_room_students, single_room_students)\n",
    "\n",
    "total_student_cost = (triple_room_students * 100) + (double_room_students * 140) + (single_room_students * 200)\n",
    "print(total_student_cost)\n",
    "total_discount = total_student_cost * 0.1\n",
    "print(total_discount)"
   ]
  },
  {
   "cell_type": "code",
   "execution_count": 69,
   "metadata": {},
   "outputs": [
    {
     "name": "stdout",
     "output_type": "stream",
     "text": [
      "81588.0\n",
      "177088.0\n",
      "-48388.0\n"
     ]
    }
   ],
   "source": [
    "# yeni maliyet\n",
    "total_hotel_cost -= total_discount\n",
    "print(total_hotel_cost)\n",
    "\n",
    "total_cost = total_hotel_cost + transportation_cost\n",
    "print(total_cost)\n",
    "\n",
    "# yeni bütçe\n",
    "budget_payment = collected_money - total_cost\n",
    "print(budget_payment)"
   ]
  },
  {
   "cell_type": "markdown",
   "metadata": {},
   "source": [
    "Durumu müdüre anlattığınızda müdürün içindeki \"cimri\" yan depreşmiş, okulun cebinden para çıkmaması için hangi parayı toplamaları gerektiğini sormuştur."
   ]
  },
  {
   "cell_type": "code",
   "execution_count": 70,
   "metadata": {},
   "outputs": [
    {
     "name": "stdout",
     "output_type": "stream",
     "text": [
      "206.3962703962704\n"
     ]
    }
   ],
   "source": [
    "break_even_payment = total_cost / student_count\n",
    "print(break_even_payment)"
   ]
  },
  {
   "cell_type": "markdown",
   "metadata": {},
   "source": [
    "Müdür, 200 ₺ toplasak, öğretmenlerin benzinini ödemesek sadece otelini ödesek kurtarıyor mu diye sormuştur.\n",
    "\n",
    "Öyle bir ifade yazınız ki bool sonuç dönsün :)"
   ]
  },
  {
   "cell_type": "code",
   "execution_count": 72,
   "metadata": {},
   "outputs": [
    {
     "name": "stdout",
     "output_type": "stream",
     "text": [
      "171600\n",
      "176588.0\n"
     ]
    },
    {
     "data": {
      "text/plain": [
       "False"
      ]
     },
     "execution_count": 72,
     "metadata": {},
     "output_type": "execute_result"
    }
   ],
   "source": [
    "print(student_count * 200)\n",
    "print(total_cost - (500 * teacher_count))\n",
    "student_count * 200 >= total_cost - (500 * teacher_count)"
   ]
  },
  {
   "cell_type": "markdown",
   "metadata": {},
   "source": [
    "Müdür insafa gelmiş, \"tamam 200 ₺ toplayın gitsin\" demiştir. Öğretmen benzin parasını da ödeyecektir."
   ]
  },
  {
   "cell_type": "markdown",
   "metadata": {},
   "source": [
    "## SORU 4\n",
    "\n",
    "Gezi çok güzel geçmiştir, herkes \"bir sonraki dönem tekrar yapalım, bu sefer daha uzun olsun\" demiştir. Ancak biz seneye yukarıdaki kadar çok işlem yapmak istiyor muyuz??\n",
    "\n",
    "Normalde bu tarz bir işlemi excelde belli yerlere sayıları girip, formüllerle hesaplatacak şekilde yapardık. Sonra o dosyayı bir yere kaydedip, yerini unutup, bir sonraki sefer işimiz düştüğünde harıl harıl arardık :) Bunun yerine bunu Python ile yapalım.\n",
    "\n",
    "O yüzden yukarıda yaptıklarımızı birkaç fonksiyon halinde gruplayalım. Sadece gelen parametreleri alacak, değişiklik durumunda yeni parametre ile işlem yapacak birkaç fonksiyon yazalım.\n",
    "\n",
    "__İPUCU:__ Fonksiyon içinden diğer fonksiyonları çağırıp işlem yaptırabilirsiniz!\n",
    "\n",
    "__BENİM TAVSİYEM__:\n",
    "* Otobüs ve öğretmen otosu sayısını hesaplayan bir fonksiyon.\n",
    "* Otelde 3 kişilik ve iki kişilik odalarda kalacak öğrenci, öğretmen ve müdür sayısını hesaplayan fonksiyon\n",
    "* otel maliyetini hesaplayan bir fonksiyon\n",
    "* ulaşım maliyetini hesaplayan bir fonksiyon\n",
    "* Toplam maliyeti hesaplayan bir fonksiyon\n",
    "* Toplanacak para miktarını hesaplayan bir fonksiyon\n",
    "* Toplanacak para miktarına göre kar/zarar durumunu hesaplayan bir fonksiyon"
   ]
  },
  {
   "cell_type": "markdown",
   "metadata": {},
   "source": [
    "## SORU 5\n",
    "\n",
    "Yeni dönem gelip çatmıştır. Bu sefer parametreler biraz farklıdır:\n",
    "* Çanakkale'de 3 gün konaklamalı bir gezi düzenlenecektir.\n",
    "* Otobüs kapasitesi 40'tır ve fiyatı 6000₺ dir.\n",
    "* Her koşulda en az 5 öğretmen katılacaktır.\n",
    "* Öğretmen benzin masrafı 1000₺ dir.\n",
    "* Otelde 150 adet 3 kişilik, 400 adet 2 kişilik oda bulunmaktadır.\n",
    "* Kişi başı fiyat: \n",
    "    * 3 kişilik odada 200₺\n",
    "    * 2 kişilik odada 250₺\n",
    "    * Tek kalınması halinde 300₺ dir.\n",
    "* Müdür ve 1 müdür yardımcısı eşiyle katılacaktır. 2 müdür yardımcısı ise tek kalacaktır.\n",
    "* Okul bütçesinden para çıkmayacaktır, minimum kar elde edilecektir. \n",
    "* Sadece öğrencilerden para toplanacaktır. Fiyatı sadece 20'nin katları olarak belirleyebilirsiniz (180, 200, 220 gibi)\n",
    "* katılacak öğrenci sayısı 957'dir.\n",
    "\n",
    "Eveeeet, işler biraz karıştı. Fonksiyonlarınızı buna göre güncelleyerek:\n",
    "* Ayarlanacak Tek, 2 ve 3 kişilik oda sayısını bulup rezervasyonu yaptırınız.\n",
    "* Öğrencilerden toplanacak para tutarını hesaplayınız.\n",
    "* Otele ödenecek parayı hesaplayınız. (%20'sini kaparo olarak istemektedirler.)\n",
    "* Otobüs firmasına ödenecek parayı hesaplayınız.\n",
    "* Kar miktarını hesaplayınız."
   ]
  }
 ],
 "metadata": {
  "kernelspec": {
   "display_name": "Python 3",
   "language": "python",
   "name": "python3"
  },
  "language_info": {
   "codemirror_mode": {
    "name": "ipython",
    "version": 3
   },
   "file_extension": ".py",
   "mimetype": "text/x-python",
   "name": "python",
   "nbconvert_exporter": "python",
   "pygments_lexer": "ipython3",
   "version": "3.12.0"
  }
 },
 "nbformat": 4,
 "nbformat_minor": 2
}
