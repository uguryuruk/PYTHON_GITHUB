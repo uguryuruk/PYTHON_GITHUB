{
 "cells": [
  {
   "cell_type": "markdown",
   "metadata": {},
   "source": [
    "# PYTHON BASICS"
   ]
  },
  {
   "cell_type": "markdown",
   "metadata": {},
   "source": [
    "## PATIKA ODEV 1"
   ]
  },
  {
   "cell_type": "markdown",
   "metadata": {},
   "source": [
    "1- Bir listeyi düzleştiren (flatten) fonksiyon yazın. Elemanları birden çok katmanlı listelerden ([[3],2] gibi) oluşabileceği gibi, non-scalar verilerden de oluşabilir. Örnek olarak:\n",
    "\n",
    "input: [[1,'a',['cat'],2],[[[3]],'dog'],4,5]\n",
    "\n",
    "output: [1,'a','cat',2,3,'dog',4,5]"
   ]
  },
  {
   "cell_type": "code",
   "execution_count": 1,
   "metadata": {},
   "outputs": [
    {
     "name": "stdout",
     "output_type": "stream",
     "text": [
      "[1, 'a', 'cat', 2, 3, 'dog', 4, 5]\n"
     ]
    }
   ],
   "source": [
    "def flatten(data):\n",
    "    \"\"\"Flattens a list of any dimension recursively.\n",
    "\n",
    "    Args:\n",
    "        data: The list to flatten.\n",
    "\n",
    "    Returns:\n",
    "        A single-dimensional list containing all elements of the input list.\n",
    "    \"\"\"\n",
    "\n",
    "    if not isinstance(data, list):\n",
    "        return [data]\n",
    "    \n",
    "    # recursive\n",
    "    result = []\n",
    "    for item in data:        \n",
    "        result.extend(flatten(item))\n",
    "    return result\n",
    "\n",
    "\n",
    "test_data = [[1,'a',['cat'],2],[[[3]],'dog'],4,5]\n",
    "flat_list = flatten(test_data)\n",
    "print(flat_list)"
   ]
  },
  {
   "cell_type": "markdown",
   "metadata": {},
   "source": [
    "## PATIKA ODEV 2"
   ]
  },
  {
   "cell_type": "markdown",
   "metadata": {},
   "source": [
    "2- Verilen listenin içindeki elemanları tersine döndüren bir fonksiyon yazın. Eğer listenin içindeki elemanlar da liste içeriyorsa onların elemanlarını da tersine döndürün. Örnek olarak:\n",
    "\n",
    "input: [[1, 2], [3, 4], [5, 6, 7]]\n",
    "\n",
    "output: [[[7, 6, 5], [4, 3], [2, 1]]"
   ]
  },
  {
   "cell_type": "code",
   "execution_count": 11,
   "metadata": {},
   "outputs": [
    {
     "name": "stdout",
     "output_type": "stream",
     "text": [
      "[[[3, 4], [1, 2]], [7, 6, 5], [4, 3], [2, 1]]\n"
     ]
    }
   ],
   "source": [
    "def reverse_list(data):\n",
    "    \"\"\"Reverses a list of any dimension recursively.\n",
    "\n",
    "    Args:\n",
    "        data: The list to reverse.\n",
    "\n",
    "    Returns:\n",
    "        fully reversed list.\n",
    "    \"\"\"\n",
    "    if not isinstance(data, list):\n",
    "        return\n",
    "\n",
    "    result = []\n",
    "    for item in data:\n",
    "        if isinstance(data, list):\n",
    "            result.append(list(reversed(item)))\n",
    "            \n",
    "    return list(reversed(result))\n",
    "\n",
    "my_input = [[1, 2], [3, 4], [5, 6, 7], [[1, 2], [3, 4]]]\n",
    "my_output = list(reverse_list(my_input))\n",
    "\n",
    "print(my_output)"
   ]
  }
 ],
 "metadata": {
  "kernelspec": {
   "display_name": "Python 3",
   "language": "python",
   "name": "python3"
  },
  "language_info": {
   "codemirror_mode": {
    "name": "ipython",
    "version": 3
   },
   "file_extension": ".py",
   "mimetype": "text/x-python",
   "name": "python",
   "nbconvert_exporter": "python",
   "pygments_lexer": "ipython3",
   "version": "3.12.0"
  }
 },
 "nbformat": 4,
 "nbformat_minor": 2
}
